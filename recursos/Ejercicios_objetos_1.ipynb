{
 "cells": [
  {
   "cell_type": "markdown",
   "metadata": {},
   "source": [
    "***\n",
    "# <center>Objetos</center>\n",
    "***"
   ]
  },
  {
   "cell_type": "markdown",
   "metadata": {},
   "source": [
    "## Ejercicio 001\n",
    "\n",
    "Escribir una clase Cuenta que tenga el siguiente comportamiento:\n",
    "\n",
    "c = Cuenta('Pérez')  \n",
    "\n",
    "d = Cuenta('López')  \n",
    "\n",
    "c.acreditar(100, 'Sueldo')  \n",
    "\n",
    "c.transferir(30, d)  \n",
    "\n",
    "c.extraer(60, 'Shopping')  \n",
    "\n",
    "c.saldo()  \n",
    "\n",
    "d.saldo()  \n",
    "\n",
    "print(c)  \n",
    "\n",
    "c.movimientos() ==> [  \n",
    "    ('acreditación',100,'Sueldo'),  \n",
    "    ('extracción',60,'Shopping'),  \n",
    "    ('extracción',30,'Cuenta de López')  \n",
    "    ]\n",
    "                    \n",
    "d.movimientos() ==>[\n",
    "    ('acreditación',30,'Cuenta de Pérez')\n",
    "]  \n",
    "\n",
    "d.extraer(100, 'Deudas') ==> ERROR ValueError: Fondos Insuficientes "
   ]
  },
  {
   "cell_type": "markdown",
   "metadata": {},
   "source": [
    "## Ejercicio 002  \n",
    "\n",
    "### Escribir la clase Pelea, que recibe en el constructor dos cadenas que corresponden al nombre del retador y el defensor (en ese orden).  \n",
    "### Además, tiene los siguientes métodos:\n",
    "\n",
    "### cargar_resultado: Recibe dos números enteros, que corresponden a los puntos asignados al retador y al defensor (en ese orden).\n",
    "\n",
    "### obtener_ganador: Devuelve el nombre del participante ganador, o la cadena \"TIE\" sí hubo un empate.\n",
    "\n",
    "### Escribir la clase HistorialDePeleas, que tiene los siguientes métodos:\n",
    "\n",
    "### cargar_pelea: Recibe un objeto de clase Pelea (de ella puede guardar solo los datos necesarios)\n",
    "\n",
    "### obtener_record: Devuelve una cadena con el nombre del competidor que más peleas ganó en toda la historia y cuantas fueron. Si hay varios peleadores que tengan la misma cantidad de peleas ganadas, devolver alguno de todos. Este método debe ser lo más eficiente posible.\n",
    "\n",
    "### En la clase Pelea validar los parámetros recibidos, y lanzar la excepción que corresponda si no cumplen las condiciones."
   ]
  }
 ],
 "metadata": {
  "kernelspec": {
   "display_name": "Python 3",
   "language": "python",
   "name": "python3"
  },
  "language_info": {
   "name": "python",
   "version": "3.10.4"
  },
  "orig_nbformat": 4
 },
 "nbformat": 4,
 "nbformat_minor": 2
}
