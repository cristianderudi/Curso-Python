{
 "cells": [
  {
   "cell_type": "markdown",
   "metadata": {},
   "source": [
    "***\n",
    "# <center>Ejercicios</center>\n",
    "***"
   ]
  },
  {
   "cell_type": "markdown",
   "metadata": {},
   "source": [
    "## 1. Fundamentals of Python  "
   ]
  },
  {
   "cell_type": "markdown",
   "metadata": {},
   "source": [
    "1_1) ¿Qué es un intérprete en Python?\n",
    "\n",
    "- a) Un programa que traduce el código Python a código máquina.\n",
    "- b) Un programa que compila el código Python antes de ejecutarlo.\n",
    "- c) Un programa que lee el código Python línea por línea y lo ejecuta directamente.\n",
    "- d) Un programa que valida la sintaxis del código Python antes de ejecutarlo.\n",
    "\n",
    "- Respuesta: c  "
   ]
  },
  {
   "cell_type": "markdown",
   "metadata": {},
   "source": [
    "1_2) Que es la sintaxis en Python.\n",
    "\n",
    "- a) La sintaxis se refiere a las reglas y estructuras gramaticales del código Python.  \n",
    "- b) La sintaxis se refiere al significado y la interpretación del código\n",
    "\n",
    "- Respuesta: a"
   ]
  },
  {
   "cell_type": "markdown",
   "metadata": {},
   "source": [
    "1_3 Los intérpretes de Python traducen todo el código a código máquina antes de ejecutarlo. (Verdadero/Falso)  \n",
    "\n",
    "- Respuesta: Falso"
   ]
  },
  {
   "cell_type": "markdown",
   "metadata": {},
   "source": [
    "## 2. Writing and Executing Python Code\n",
    "\n",
    "2_1) Escribir un programa en Python que tome dos números como entrada y muestre su suma en la consola."
   ]
  },
  {
   "cell_type": "code",
   "execution_count": null,
   "metadata": {},
   "outputs": [],
   "source": []
  },
  {
   "cell_type": "markdown",
   "metadata": {},
   "source": [
    "2_2) Los intérpretes de Python traducen todo el código a código máquina antes de ejecutarlo. (Verdadero/Falso)"
   ]
  },
  {
   "cell_type": "markdown",
   "metadata": {},
   "source": [
    "## 3. Python Code Structure"
   ]
  },
  {
   "cell_type": "markdown",
   "metadata": {},
   "source": [
    "3_1) ¿Cuál de los siguientes no es un elemento esencial de la estructura del código de Python?\n",
    "\n",
    "- a) Palabras clave\n",
    "- b) Instrucciones\n",
    "- c) Comentarios\n",
    "- d) Variables"
   ]
  },
  {
   "cell_type": "markdown",
   "metadata": {},
   "source": [
    "3_2) ¿Qué es la sangría en Python y cómo afecta la estructura del código?"
   ]
  },
  {
   "cell_type": "markdown",
   "metadata": {},
   "source": [
    "## 4. Variables and Literals"
   ]
  },
  {
   "cell_type": "markdown",
   "metadata": {},
   "source": [
    "4_1) Las variables en Python deben ser declaradas antes de usarlas. (Verdadero/Falso)"
   ]
  },
  {
   "cell_type": "markdown",
   "metadata": {},
   "source": [
    "4_2) ¿Cuál es la diferencia entre una variable y un literal en Python?"
   ]
  },
  {
   "cell_type": "markdown",
   "metadata": {},
   "source": [
    "## 5. Output Messages to the Console"
   ]
  },
  {
   "cell_type": "markdown",
   "metadata": {},
   "source": [
    "5_1) Escribir un programa que pida al usuario su nombre y luego imprima un mensaje de bienvenida en la consola."
   ]
  },
  {
   "cell_type": "code",
   "execution_count": null,
   "metadata": {},
   "outputs": [],
   "source": []
  },
  {
   "cell_type": "markdown",
   "metadata": {},
   "source": [
    "5_2) ¿Por qué es importante usar la función de impresión para enviar mensajes a la consola en lugar de simplemente mostrarlos en el código?"
   ]
  },
  {
   "cell_type": "markdown",
   "metadata": {},
   "source": [
    "## 6. Defining Numerical Representations"
   ]
  },
  {
   "cell_type": "markdown",
   "metadata": {},
   "source": [
    "6_1) ¿Qué representa la notación científica en Python?\n",
    "\n",
    "- a) Números binarios\n",
    "- b) Números decimales\n",
    "- c) Números muy grandes o muy pequeños\n",
    "- d) Números complejos"
   ]
  },
  {
   "cell_type": "code",
   "execution_count": null,
   "metadata": {},
   "outputs": [],
   "source": []
  },
  {
   "cell_type": "markdown",
   "metadata": {},
   "source": [
    "6_2) ¿Qué es la precisión de los números de coma flotante?\n",
    "\n",
    "- a) Refiere a la cantidad de decimales que pueden representarse en un número real.\n",
    "- b) refiere a la cantidad de dígitos significativos que pueden representarse en un número real\n",
    "- c) refiere a la cantidad de cifras enteras que pueden representarse en un número real.\n",
    "\n",
    "- Respuesta: b)"
   ]
  },
  {
   "cell_type": "markdown",
   "metadata": {},
   "source": [
    "## 7. Working with Strings\n",
    "\n",
    "7_1) En Python, las cadenas son inmutables, lo que significa que no se pueden modificar una vez creadas. (Verdadero/Falso)\n",
    "\n",
    "Respuesta: Verdadero\n",
    "\n",
    "7_2) ¿Qué método de cadena se utiliza para convertir una cadena en mayúsculas?\n",
    "\n",
    " - a) upper()\n",
    " - b) capitalize()\n",
    " - c) lower()\n",
    " - d) swapcase()\n",
    "\n",
    " Respuesta: a\n",
    "\n",
    "7_3) ¿Cuál de los siguientes índices accederá al primer carácter de la cadena \"Python\"?\n",
    "\n",
    " - a) str[1]\n",
    " - b) str[0]\n",
    " - c) str[-1]\n",
    " - d) str[-6]\n",
    "\n",
    "Respuesta: b\n",
    "\n",
    "7_4) ¿Cuál de los siguientes métodos de cadena se utiliza para reemplazar todas las ocurrencias de una subcadena por otra?\n",
    "\n",
    " - a) replace()\n",
    " - b) split()\n",
    " - c) join()\n",
    " - d) strip()\n",
    "\n",
    "Respuesta: a\n",
    "\n",
    "7_5) El corte de cadenas en Python incluye el carácter en el índice inicial y excluye el carácter en el índice final del resultado. (Verdadero/Falso)\n",
    "\n",
    "Respuesta: Verdadero   \n",
    "\n",
    "7_6) Escribe un programa en Python que tome una cadena como entrada y cuente la cantidad de veces que aparece la letra \"a\" (mayúscula o minúscula) en la cadena.\n",
    "\n",
    "\n",
    "Escriba su código a continuación:"
   ]
  },
  {
   "cell_type": "code",
   "execution_count": null,
   "metadata": {},
   "outputs": [],
   "source": [
    "# 7_6)\n",
    "\n",
    "def contar_aparicones(cadena:str,caracter:str):    \n",
    "    return cadena.count(caracter)"
   ]
  },
  {
   "cell_type": "markdown",
   "metadata": {},
   "source": [
    "7_7) El método de cadena split() permite dividir una cadena en una lista de subcadenas utilizando un delimitador específico. (Verdadero/Falso)\n",
    "\n",
    "Respuesta: Verdadero\n",
    "\n",
    "7_8 ¿Qué hace el método find() en una cadena?\n",
    "\n",
    "- a) Devuelve la última aparición de una subcadena.\n",
    "- b) Devuelve la posición de la primera ocurrencia de una subcadena.\n",
    "- c) Devuelve la cantidad total de ocurrencias de una subcadena.\n",
    "- d) Devuelve un booleano que indica si la subcadena está presente en la cadena.\n",
    "\n",
    "Respuesta: b\n",
    "\n",
    "7_9) Supongamos que tenemos una cadena llamada texto = \"Hola, soy un texto.\" ¿Cuál de las siguientes opciones produce la cadena \"texto\" como resultado al aplicar un método de corte (slice)?\n",
    "\n",
    "- a) texto[0:3]\n",
    "- b) texto[13:18]\n",
    "- c) texto[11:15]\n",
    "- d) texto[16:]\n",
    "\n",
    "Respuesta: b\n",
    "\n",
    "7_10) ¿Qué hace el método strip() en una cadena?\n",
    "\n",
    "- a) Elimina todos los espacios en blanco al principio y al final de la cadena.\n",
    "- b) Elimina todas las ocurrencias de una subcadena específica en la cadena.\n",
    "- c) Convierte la cadena en mayúsculas.\n",
    "- d) Divide la cadena en una lista de subcadenas utilizando un delimitador específico.\n",
    "\n",
    "Respuesta: a\n",
    "\n",
    "7_11) Escribe un programa en Python que tome una frase como entrada y devuelva la misma frase, pero con cada palabra invertida. Por ejemplo, si la entrada es \"Hola mundo\", el programa debe devolver \"aloH odnum\".\n",
    "\n",
    "Opciones de respuesta para preguntas de opción múltiple (ejercicios 2, 3 y 4):\n",
    "2. Respuesta: 2. Devuelve la posición de la primera ocurrencia de una subcadena.\n",
    "\n",
    "Respuesta: 2. tex"
   ]
  },
  {
   "cell_type": "markdown",
   "metadata": {},
   "source": [
    "## 8. Using Operators"
   ]
  },
  {
   "cell_type": "markdown",
   "metadata": {},
   "source": [
    "## 9. Receiving Input Data from the Console"
   ]
  }
 ],
 "metadata": {
  "kernelspec": {
   "display_name": "Python 3",
   "language": "python",
   "name": "python3"
  },
  "language_info": {
   "codemirror_mode": {
    "name": "ipython",
    "version": 3
   },
   "file_extension": ".py",
   "mimetype": "text/x-python",
   "name": "python",
   "nbconvert_exporter": "python",
   "pygments_lexer": "ipython3",
   "version": "3.10.4"
  },
  "orig_nbformat": 4
 },
 "nbformat": 4,
 "nbformat_minor": 2
}
