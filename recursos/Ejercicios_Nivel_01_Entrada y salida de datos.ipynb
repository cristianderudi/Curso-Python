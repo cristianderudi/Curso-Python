{
 "cells": [
  {
   "attachments": {},
   "cell_type": "markdown",
   "metadata": {},
   "source": [
    "***\n",
    "# <center>Entrada y salida de datos</center>\n",
    "***"
   ]
  },
  {
   "attachments": {},
   "cell_type": "markdown",
   "metadata": {},
   "source": [
    "## Ejercicio 001 \n",
    "\n",
    "### Escribir un programa que permita que el usuario ingrese su nombre. El programa debe emitir una salida con un mensaje de bienvenida que incluya el nombre ingresado.\n",
    "Ejemplo de ejecución:\n",
    "\n",
    "    Ingrese su nombre: Juan\n",
    "    Bienvenido Juan"
   ]
  },
  {
   "cell_type": "code",
   "execution_count": null,
   "metadata": {},
   "outputs": [],
   "source": [
    "# Escriba la solución aquí\n"
   ]
  },
  {
   "attachments": {},
   "cell_type": "markdown",
   "metadata": {},
   "source": [
    "## Ejercicio 002 \n",
    "\n",
    "### Escribir un programa que solicite al usuario su nombre y su edad, y luego muestre por pantalla un mensaje que diga \"Hola, [nombre]. Tu edad es [edad] años.\"\n",
    "Ejemplo de ejecución:\n",
    "\n",
    "    Ingrese su nombre: Juan\n",
    "    Ingrese su edad: 30\n",
    "    Hola, Juan. Tu edad es 30 años."
   ]
  },
  {
   "cell_type": "code",
   "execution_count": null,
   "metadata": {},
   "outputs": [],
   "source": [
    "# Escriba la solución aquí\n"
   ]
  },
  {
   "attachments": {},
   "cell_type": "markdown",
   "metadata": {},
   "source": [
    "## Ejercicio 003\n",
    "\n",
    "### Escribir un programa que solicite al usuario su nombre y su edad, después pida una cantidad de años y muestre por pantalla un mensaje que indique cuántos años tendrá la persona después de sumarle a su edad la cantidad de años ingresada. El mensaje debe tener el siguiente formato: 'Hola, [nombre]. Dentro de [cantidad] años tendrás [edad + cantidad] años'\".\n",
    "Ejemplo: Si el usuario ingresa \"Juan\" y \"20\" y luego ingresa \"5\", el programa debe mostrar por pantalla \"Hola, Juan. Dentro de 5 años tendrás 25 años\"."
   ]
  },
  {
   "cell_type": "code",
   "execution_count": null,
   "metadata": {},
   "outputs": [],
   "source": [
    "# Escriba la solución aquí\n"
   ]
  },
  {
   "attachments": {},
   "cell_type": "markdown",
   "metadata": {},
   "source": [
    "## Ejercicio 004\n",
    "\n",
    "### Escribir un programa que solicite al usuario ingresar tres numeros enteros.El programa debe mostrar por pantalla el resultado de sumar los tres numeros de la siguiente manera: \"[numero1] + [numero2] + [numero3] = [suma]\".\n",
    "Ejemplo: Si el usuario ingresa 1, 2 y 3, el programa debe mostrar por pantalla: \"1 + 2 + 3 = 6\"."
   ]
  },
  {
   "cell_type": "code",
   "execution_count": null,
   "metadata": {},
   "outputs": [],
   "source": [
    "# Escriba la solución aquí\n"
   ]
  },
  {
   "attachments": {},
   "cell_type": "markdown",
   "metadata": {},
   "source": [
    "## Ejercicio 005\n",
    "\n",
    "### Escribir un programa que solicite al usuario ingresar dos notas de un alumno. El programa debe mostrar por pantalla el promedio de las notas de la siguiente manera: \"Notas: [nota1] , [nota2] ==> promedio: [(nota1+nota2)/2]\".\n",
    "Ejemplo: Si el usuario ingresa 7 y 8, el programa debe mostrar por pantalla: \"Notas: 7 , 8 ==> promedio: 7.5\"."
   ]
  },
  {
   "cell_type": "code",
   "execution_count": null,
   "metadata": {},
   "outputs": [],
   "source": [
    "# Escriba la solución aquí\n"
   ]
  },
  {
   "attachments": {},
   "cell_type": "markdown",
   "metadata": {},
   "source": [
    "## Ejercicio 006\n",
    "\n",
    "### Escribir un programa que solicite al usuario ingresar tres notas de un alumno. El programa debe mostrar por pantalla las notas separadas por comas en un renglón y el promedio de las notas en el siguiente renglon.\n",
    "Ejemplo de ejecución:\n",
    "    \n",
    "        Ingrese la nota 1: 7\n",
    "        Ingrese la nota 2: 8\n",
    "        Ingrese la nota 3: 9\n",
    "        Notas: 7, 8, 9\n",
    "        Promedio: 8.0"
   ]
  },
  {
   "cell_type": "code",
   "execution_count": null,
   "metadata": {},
   "outputs": [],
   "source": [
    "# Escriba la solución aquí\n"
   ]
  },
  {
   "attachments": {},
   "cell_type": "markdown",
   "metadata": {},
   "source": [
    "## Ejercicio 007\n",
    "\n",
    "### Escribir un programa que permita ingresar un número entero. Debe mostrarse el número ingresado:\n",
    "### a. Multiplicado por 10. (utilizar el operador *)\n",
    "### b. Dividido por 10. (utilizar el operador /)\n",
    "### c. Elevado al cuadrado. (utilizar el operador **)\n",
    "### Cada resultado debe mostrarse en una línea distinta.\n",
    "Ejemplo de ejecución:\n",
    "\n",
    "    Ingrese un número entero: 5\n",
    "    5 * 10 = 50\n",
    "    5 / 10 = 0.5\n",
    "    5 ** 2 = 25"
   ]
  },
  {
   "cell_type": "code",
   "execution_count": null,
   "metadata": {},
   "outputs": [],
   "source": [
    "# Escriba la solución aquí\n"
   ]
  },
  {
   "attachments": {},
   "cell_type": "markdown",
   "metadata": {},
   "source": [
    "## Ejercicio 008\n",
    "\n",
    "### Escribir un programa que permita ingresar el valor monetario de una hora de trabajo y la cantidad de horas trabajadas por día, para calcular el salario semanal de un trabajador que trabaja todos los días hábiles y la mitad de las horas del día hábil los sábados, suponiendo que todas las horas tienen el mismo valor.\"\n",
    "\n",
    "### Como pensarlo:\n",
    "\n",
    "1- Pedir al usuario que ingrese el valor monetario de una hora de trabajo y almacenarlo en una variable valor_hora.\n",
    "\n",
    "2- Pedir al usuario que ingrese la cantidad de horas trabajadas por día por el trabajador y almacenarla en una variable horas_trabajadas_por_dia.\n",
    "\n",
    "3- Calcular el salario diario del trabajador multiplicando valor_hora por horas_trabajadas_por_dia.\n",
    "\n",
    "4- Calcular el salario semanal del trabajador multiplicando el salario diario por la cantidad de días hábiles de la semana. Para esto, puedes utilizar la constante dias_habiles definida como 5.\n",
    "\n",
    "5- Calcular la cantidad de horas trabajadas por el trabajador el sábado, que es la mitad de la cantidad de horas trabajadas por día hábil. Para esto, se puede utilizar la vaiable horas_sabado definida como horas_trabajadas_por_dia / 2.\n",
    "\n",
    "6- Calcular el salario del trabajador por las horas trabajadas el sábado multiplicando valor_hora por horas_sabado.\n",
    "\n",
    "7- Sumar el salario semanal con el salario del sábado para obtener el salario total semanal del trabajador.\n",
    "\n",
    "8- Mostrar el resultado del salario semanal en la pantalla."
   ]
  },
  {
   "cell_type": "code",
   "execution_count": null,
   "metadata": {},
   "outputs": [],
   "source": [
    "# Escriba la solución aquí respetando los pasos descriptos en el enunciado\n"
   ]
  },
  {
   "attachments": {},
   "cell_type": "markdown",
   "metadata": {},
   "source": [
    "## Ejercicio 009\n",
    "\n",
    "### Escribir un programa que permita ingresar valores del mismo tipo para las variables num1 y num2. Una vez cargadas, mostrar ambas variables por pantalla, intercambiá sus valores (que lo cargado en num1 quede en num2, y viceversa) y volvé a mostrarlas actualizadas.\n",
    "\n",
    "### Como pensarlo:\n",
    "\n",
    "1- Pedir al usuario que ingrese un valor para la variable num1.\n",
    "\n",
    "2- Pedir al usuario que ingrese un valor para la variable num2.\n",
    "\n",
    "3- Mostrar por pantalla el valor de las variables num1 y num2.\n",
    "\n",
    "4- Intercambiar los valores de las variables num1 y num2.\n",
    "\n",
    "5- Mostrar por pantalla el valor de las variables num1 y num2.   \n",
    "\n",
    "\n",
    "\n",
    "### Otra forma de resolverlo:  \n",
    "a=10  \n",
    "b=20  \n",
    "print(a,b)  \n",
    "a = a + b;  \n",
    "b = a - b;  \n",
    "a = a - b;  \n",
    "print(a,b)  "
   ]
  },
  {
   "cell_type": "code",
   "execution_count": null,
   "metadata": {},
   "outputs": [],
   "source": [
    "# Escriba la solución aquí respetando los pasos descriptos en el enunciado\n",
    "\n"
   ]
  },
  {
   "attachments": {},
   "cell_type": "markdown",
   "metadata": {},
   "source": [
    "## Ejercicio 010\n",
    "\n",
    "### Escribir un programa para resolver el siguiente problema:\n",
    "### Tres personas invierten dinero para fundar una empresa (no necesariamente en partes iguales).\n",
    "\n",
    "### Calcular qué porcentaje invirtió cada una.\n",
    "\n",
    "### Como pensarlo:\n",
    "\n",
    "- 1 Solicitar al usuario que ingrese las cantidades invertidas por cada persona en tres variables numéricas. \n",
    "\n",
    "   inversion_persona1 = float(input(\"Ingrese la cantidad invertida por la persona 1: \"))\n",
    "   \n",
    "   inversion_persona2 = float(input(\"Ingrese la cantidad invertida por la persona 2: \"))\n",
    "   \n",
    "   inversion_persona3 = float(input(\"Ingrese la cantidad invertida por la persona 3: \"))\n",
    "\n",
    "- 2 Calcular el total de la inversión sumando las cantidades de las tres personas.  \n",
    "\n",
    "    total = inversion_persona1 + inversion_persona2 + inversion_persona3\n",
    "\n",
    "- 3 Calcular el porcentaje que representa la inversión de cada persona en relación al total de la inversión.\n",
    "\n",
    "    - 3 - 1 Dividir la cantidad invertida por cada persona entre el total de la inversión y multiplicar por 100 para obtener el porcentaje.\n",
    "    Almacenar el resultado en una variable correspondiente a cada persona.\n",
    "    Opcionalmente, se puede redondear el resultado a un número determinado de decimales utilizando la función round().\n",
    "\n",
    "    Ejemplo: \n",
    "\n",
    "        porcentaje_inversion_persona1 = round((inversion_persona1 / total) * 100, 2)  \n",
    "        porcentaje_inversion_persona2 = round((inversion_persona2 / total) * 100, 2)  \n",
    "        porcentaje_inversion_persona3 = round((inversion_persona3 / total) * 100, 2)    \n",
    "\n",
    "\n",
    "- 4 Mostrar por pantalla el porcentaje de inversión de cada persona."
   ]
  },
  {
   "cell_type": "code",
   "execution_count": null,
   "metadata": {},
   "outputs": [],
   "source": [
    "# Escriba la solución aquí respetando los pasos descriptos en el enunciado\n",
    "\n"
   ]
  },
  {
   "attachments": {},
   "cell_type": "markdown",
   "metadata": {},
   "source": [
    "## Ejercicio 011\n",
    "\n",
    "### Escribir un programa que permita resolver el siguiente problema: \n",
    "### Tres personas aportan diferente capital a una sociedad y desean saber el valor total aportado y qué porcentaje aportó cada una (indicando nombre y porcentaje). \n",
    "### Solicitar la carga por teclado del nombre de cada socio y su capital aportado, a partir de esto calcular e informar lo requerido previamente.\n"
   ]
  },
  {
   "cell_type": "code",
   "execution_count": null,
   "metadata": {},
   "outputs": [],
   "source": [
    "# Escriba la solución aquí\n"
   ]
  },
  {
   "attachments": {},
   "cell_type": "markdown",
   "metadata": {},
   "source": [
    "## Ejercicio 012\n",
    "\n",
    "### Escribir un programa en Python que solicite al usuario ingresar dos valores que representen las medidas en grados de dos ángulos interiores de un triángulo. Luego, calcular y mostrar por pantalla el valor en grados del ángulo restante.\n",
    "### Es importante recordar que la suma de los ángulos interiores de todo triángulo es de 180 grados. Es decir, la suma de los ángulos internos de un triángulo siempre es igual a 180 grados. Por lo tanto, para calcular el ángulo restante es necesario restar la suma de los dos ángulos interiores ingresados al valor 180.\"\n",
    "\n",
    "#### Para pensar:\n",
    "\n",
    "¿Qué pasaría si se ingresan valores negativos como medidas de ángulos?\n",
    "\n",
    "¿Qué sucedería si la suma de los dos ángulos ingresados es mayor o igual a 180 grados?\n"
   ]
  },
  {
   "cell_type": "code",
   "execution_count": null,
   "metadata": {},
   "outputs": [],
   "source": [
    "# Escriba la solución aquí\n"
   ]
  },
  {
   "attachments": {},
   "cell_type": "markdown",
   "metadata": {},
   "source": [
    "## Ejercicio 013\n",
    "\n",
    "###  Escribir un programa para calcular el importe a cobrar por un vendedor, considerando su sueldo fijo de $200000 pesos más el 16% del monto total de ventas realizadas durante un mes.\n",
    "\n",
    "#### Pensando los pasos para resolver el problema:\n",
    "\n",
    "- 1 Solicitar al usuario que ingrese el monto total de ventas realizadas por el vendedor durante el \n",
    "mes en una variable correspondiente.\n",
    "\n",
    "- 2 Calcular el 16% del monto total de ventas realizadas y almacenar el resultado en una variable.\n",
    "\n",
    "- 3 Sumar el resultado del cálculo anterior al sueldo fijo del vendedor.\n",
    "\n",
    "- 4 Mostrar el importe a cobrar por el vendedor.\n",
    "\n",
    "#### Para pensar:\n",
    "\n",
    "¿Qué pasaría si se modificara el sueldo fijo del vendedor?\n",
    "\n",
    "Si se modifica el sueldo fijo del vendedor, entonces la fórmula utilizada para calcular el salario total debería ser actualizada para reflejar el nuevo sueldo fijo. En este caso, si el sueldo fijo aumenta, entonces el salario total también aumentaría. De igual manera, si el sueldo fijo disminuye, entonces el salario total también disminuiría. Es importante actualizar la fórmula en el programa para asegurarse de que el cálculo del salario total sea preciso y refleje el cambio en el importe a cobrar por del vendedor.\n",
    "\n",
    "¿Hay que modificar el programa cada vez? ¿Cómo lo soluciono?"
   ]
  },
  {
   "cell_type": "code",
   "execution_count": null,
   "metadata": {},
   "outputs": [],
   "source": [
    "# Escriba la solución aquí: (la original o la modificada)\n"
   ]
  },
  {
   "attachments": {},
   "cell_type": "markdown",
   "metadata": {},
   "source": [
    "## Ejercicio 014\n",
    "\n",
    "### Escribir un programa que permita al usuario ingresar el ancho y largo de un terreno en metros, junto con el valor del metro cuadrado de tierra. El programa debe calcular y mostrar el valor total del terreno. Además, debe calcular la cantidad de metros de alambre necesarios para cercar completamente el terreno a tres alturas distintas.\n",
    "\n",
    "#### Pensando los pasos para resolver el problema:\n",
    "\n",
    "Solicitar al usuario que ingrese el ancho del terreno en metros y almacenarlo en una variable.\n",
    "Solicitar al usuario que ingrese el largo del terreno en metros y almacenarlo en otra variable.\n",
    "Solicitar al usuario que ingrese el valor del metro cuadrado de tierra y almacenarlo en otra variable.\n",
    "Calcular el valor total del terreno multiplicando el ancho por el largo y luego multiplicando el resultado por el valor del metro cuadrado de tierra.\n",
    "Mostrar el valor total del terreno al usuario.\n",
    "Calcular la cantidad de metros de alambre necesarios para cercar el terreno a tres alturas distintas. Por ejemplo, se puede calcular la cantidad de alambre necesaria para cercar a 1 metro de altura, a 2 metros de altura y a 3 metros de altura. Para hacerlo, se debe sumar el perímetro del terreno (2 veces el ancho más 2 veces el largo) y luego multiplicarlo por la cantidad de alturas.\n",
    "Mostrar la cantidad de metros de alambre necesarios para cercar el terreno a las tres alturas distintas al usuario."
   ]
  },
  {
   "cell_type": "code",
   "execution_count": null,
   "metadata": {},
   "outputs": [],
   "source": [
    "# Escriba la solución aquí"
   ]
  },
  {
   "attachments": {},
   "cell_type": "markdown",
   "metadata": {},
   "source": [
    "## Ejercicio 015\n",
    "\n",
    "### Definición del problema: Una inmobiliaria paga a sus vendedores un salario base, más una comisión fija por cada venta realizada, más el 5% del valor de esas ventas. Realizar un programa que imprima el nombre del vendedor y el salario que le corresponde en un determinado mes. \n",
    "### Se leen por teclado el nombre del vendedor, la cantidad de ventas que realizó y el valor total de las mismas.\n",
    "\n",
    "### ¿Sobran datos? ¿Qué datos sobran?"
   ]
  },
  {
   "cell_type": "code",
   "execution_count": null,
   "metadata": {},
   "outputs": [],
   "source": [
    "# Escriba alguna solución aquí\n"
   ]
  },
  {
   "attachments": {},
   "cell_type": "markdown",
   "metadata": {},
   "source": [
    "## Ejercicio 016\n",
    "\n",
    "### Escribir un programa que permita al usuario ingresar un período de tiempo en segundos. Luego, el programa debe convertir ese período de tiempo a una forma más legible y comprensible para el usuario, expresando el resultado en días, horas, minutos y segundos. El resultado se mostrará en pantalla en un mensaje que indique la cantidad de segundos ingresados y su equivalente en días, horas, minutos y segundos.  \n",
    "\n",
    "Ejemplo: 200000 segundos equivalen a 2 días, 7 horas, 33 minutos y 20 segundos.\n",
    "\n",
    "### Usar en el programa las siguientes instrucciones:\n",
    "\n",
    "dias = segundos // 86400 # 86400 segundos = 1 día\n",
    "\n",
    "horas = (segundos % 86400) // 3600 # 3600 segundos = 1 hora\n",
    "\n",
    "minutos = (segundos % 3600) // 60 # 60 segundos = 1 minuto\n",
    "\n",
    "segundos_restantes = segundos % 60 # segundos restantes\n"
   ]
  },
  {
   "cell_type": "code",
   "execution_count": null,
   "metadata": {},
   "outputs": [],
   "source": [
    "# Escriba la solución aquí\n"
   ]
  },
  {
   "attachments": {},
   "cell_type": "markdown",
   "metadata": {},
   "source": [
    "## Ejercicio 017\n",
    "\n",
    "### ¡Ayuda! Se me rompió el programa que convierte una cantidad de dinero en la cantidad mínima de billetes y monedas necesarios. Tengo todas las instrucciones necesarias, pero están todas mezcladas. ¿Podrías ayudarme a ordenarlas de manera correcta para que funcione el programa como debería? A lo mejor se me perdieron algunas instrucciones, ¿podrías agregarlas?\n",
    "\n",
    "resto = cantidad_total  \n",
    "billetes_cien = resto // 100  \n",
    "resto = resto % 100  \n",
    "billetes_cinco = resto // 5  \n",
    "billetes_mil = resto // 1000  \n",
    "billetes_cincuenta = resto // 50  \n",
    "billetes_doscientos = resto // 200  \n",
    "billetes_diez = resto // 10  \n",
    "billetes_docientos = resto // 200  \n",
    "resto = resto % 10  \n",
    "cantidad_total = int(input(\"Ingrese la cantidad de dinero a convertir: \"))  \n",
    "billetes_uno = resto // 1  \n",
    "print(\"Para la cantidad de $\", cantidad_total, \" se necesitan:\")  \n",
    "print(billetes_mil, \"billetes de $1000\")  \n",
    "print(billetes_doscientos, \"billetes de $200\")  \n",
    "print(billetes_cien, \"billetes de $100\")  \n",
    "print(billetes_cincuenta, \"billetes de $50\")  \n",
    "print(billetes_diez, \"billetes de $10\")  \n",
    "print(billetes_cinco, \"billetes de $5\")  \n",
    "print(billetes_uno, \"billetes de $1\")  \n"
   ]
  },
  {
   "cell_type": "code",
   "execution_count": null,
   "metadata": {},
   "outputs": [],
   "source": [
    "# Escriba la solución aquí (¡Mucha suerte ordenando las instrucciones!)\n",
    "\n"
   ]
  },
  {
   "attachments": {},
   "cell_type": "markdown",
   "metadata": {},
   "source": [
    "***\n",
    "# <center>Flujos de selección</center>\n",
    "***"
   ]
  },
  {
   "attachments": {},
   "cell_type": "markdown",
   "metadata": {},
   "source": [
    "## Ejercicio 018\n",
    "\n",
    "### Escribir un programa que permita al usuario ingresar un número entero y luego muestre un mensaje indicando si el número es par o impar.\n",
    "\n",
    "#### Pensando los pasos para resolver el problema:\n",
    "\n",
    "-1 Pedir al usuario que ingrese un número entero.  \n",
    "-2 Almacenar ese número en una variable.  \n",
    "\n",
    "-3 __Verificar si el número es par o impar__.  \n",
    "\n",
    "- Si el número es par, mostrar un mensaje indicando que es par.  \n",
    "- Si el número es impar, mostrar un mensaje indicando que es impar.  \n",
    "\n",
    "(Para verificar si un número es par o impar, se puede utilizar el operador módulo (%). Si el resto de la división del número por 2 es 0, entonces el número es par. Si el resto de la división del número por 2 es 1, entonces el número es impar.)\n"
   ]
  },
  {
   "cell_type": "code",
   "execution_count": 1,
   "metadata": {},
   "outputs": [
    {
     "name": "stdout",
     "output_type": "stream",
     "text": [
      "El número ingresado es: 123456\n",
      "El número es par\n"
     ]
    }
   ],
   "source": [
    "# Escriba la solución aquí\n",
    "\n",
    "numero = int(input(\"Ingrese un número: \"))\n",
    "print(\"El número ingresado es:\", numero)\n",
    "if numero % 2 == 0:\n",
    "    print(\"El número es par\")\n",
    "else:\n",
    "    print(\"El número es impar\")"
   ]
  },
  {
   "attachments": {},
   "cell_type": "markdown",
   "metadata": {},
   "source": [
    "## Ejercicio 019\n",
    "\n",
    "### Escribir un programa que permita ingresar dos números enteros e indicar si son iguales o distintos."
   ]
  },
  {
   "cell_type": "code",
   "execution_count": null,
   "metadata": {},
   "outputs": [],
   "source": [
    "# Escriba la solución aquí\n"
   ]
  },
  {
   "attachments": {},
   "cell_type": "markdown",
   "metadata": {},
   "source": [
    "## Ejercicio 020\n",
    "\n",
    "### Escribir un programa que permita ingresar dos cadenas de caracteres e indicar si son iguales o distintas."
   ]
  },
  {
   "cell_type": "code",
   "execution_count": null,
   "metadata": {},
   "outputs": [],
   "source": [
    "# Escriba la solución aquí"
   ]
  },
  {
   "attachments": {},
   "cell_type": "markdown",
   "metadata": {},
   "source": [
    "## Ejercicio 021\n",
    "\n",
    "### Escribir un programa que permita ingresar dos números enteros e indicar si el primero es mayor, menor o igual al segundo."
   ]
  },
  {
   "cell_type": "code",
   "execution_count": null,
   "metadata": {},
   "outputs": [],
   "source": [
    "# Escriba la solución aquí\n"
   ]
  },
  {
   "attachments": {},
   "cell_type": "markdown",
   "metadata": {},
   "source": [
    "## Ejercicio 022\n",
    "\n",
    "### Escribir un programa que permita ingresar tres números enteros e indicar cual es el mayor."
   ]
  },
  {
   "cell_type": "code",
   "execution_count": null,
   "metadata": {},
   "outputs": [],
   "source": [
    "# Escriba la solución aquí"
   ]
  },
  {
   "attachments": {},
   "cell_type": "markdown",
   "metadata": {},
   "source": [
    "## Ejercicio 023\n",
    "\n",
    "### Escribir un programa que permita ingresar tres números enteros y mostrar el mayor el menor y el valor que esta en medio.\n",
    "\n",
    "### Ejemplo: Si se ingresan los números 5, 3 y 7, el programa debe mostrar el número 5 como el menor, el número 7 como el mayor y el número 3 como el que esta en medio.\n",
    "\n",
    "### Otra vez se mezclaron las instrucciones, ¿podrías arreglarlas? \n",
    "\n",
    "numero_uno = int(input(\"Ingrese el primer número: \"))  \n",
    "numero_dos = int(input(\"Ingrese el segundo número: \"))  \n",
    "numero_tres = int(input(\"Ingrese el tercer número: \"))  \n",
    "\n",
    "if medio < menor:  \n",
    "    auxiliar = medio  \n",
    "    medio = menor  \n",
    "    menor = auxiliar  \n",
    "\n",
    "if numero_tres > mayor:  \n",
    "    mayor = numero_tres  \n",
    "    medio = numero_uno  \n",
    "    menor = numero_dos  \n",
    "\n",
    "if numero_dos > mayor:  \n",
    "    mayor = numero_dos  \n",
    "    medio = numero_uno  \n",
    "    menor = numero_tres  \n",
    "\n",
    "mayor = numero_uno  \n",
    "medio = numero_dos  \n",
    "menor = numero_tres  \n",
    "\n",
    "print(\"El mayor es: \", mayor)  \n",
    "print(\"El medio es: \", medio)  \n",
    "print(\"El menor es: \", menor)  "
   ]
  },
  {
   "cell_type": "code",
   "execution_count": null,
   "metadata": {},
   "outputs": [],
   "source": [
    "# Escriba la solución aquí\n",
    "\n"
   ]
  },
  {
   "attachments": {},
   "cell_type": "markdown",
   "metadata": {},
   "source": [
    "## Ejercicio 024\n",
    "\n",
    "### Para acceder a cierta atracción, es necesario cumplir con dos requisitos: tener __al menos__ 10 años de edad y medir __más__ de 1,60 metros.\n",
    "\n",
    "<center>(Ojo, tener en cuenta las palabras: más,al menos y sobre todo la letra y)</center>\n",
    "\n",
    "### Escribir un programa en Python que solicite al usuario su edad y estatura, y que determine si cumple con los requisitos para subir a la atracción. Si cumple con ambos requisitos, el programa debe imprimir \"¡Puede acceder!\" en la pantalla. Si no cumple con alguno de los requisitos, el programa debe imprimir un mensaje que indique el motivo por el cual no puede subir. Por ejemplo, si no cumple con el requisito de la edad, el programa debe imprimir \"Lo siento, eres demasiado joven para acceder.\" Si no cumple con el requisito de la estatura, el programa debe imprimir \"Lo siento, eres demasiado bajo para acceder\"\n",
    "\n",
    "\n",
    "Los conectores lógicos \"and\" y \"or\" son operadores booleanos utilizados en programación y en lógica matemática para combinar o unir dos o más expresiones lógicas.\n",
    "\n",
    "El conector \"and\" se utiliza para combinar dos o más expresiones lógicas y evaluarlas en conjunto. La expresión completa es verdadera sólo si todas las expresiones individuales son verdaderas. Por ejemplo, la expresión lógica \"A and B\" será verdadera sólo si tanto A como B son verdaderos. Si alguna de las expresiones es falsa, la expresión completa será falsa.\n",
    "\n",
    "La tabla de verdad del operador \"and\" se utiliza en lógica proposicional para determinar el valor de verdad de una proposición compuesta formada por dos proposiciones simples unidas por \"and\". La tabla de verdad del \"and\" se construye evaluando todas las posibles combinaciones de valores de verdad de las proposiciones simples, y determinando el valor de verdad de la proposición compuesta para cada combinación.\n",
    "\n",
    "La tabla de verdad del \"and\" es la siguiente:\n",
    "\n",
    "<center>\n",
    "\n",
    "| P | Q | P and Q |\n",
    "|:-:|:-:|:-------:|\n",
    "| V | V |    V    |\n",
    "| V | F |    F    |\n",
    "| F | V |    F    |\n",
    "| F | F |    F    |\n",
    "\n",
    "</center>\n",
    "\n",
    "En resumen, el conector \"and\" se utiliza para crear expresiones lógicas que requieren que todas las condiciones sean verdaderas para que la expresión sea verdadera."
   ]
  },
  {
   "cell_type": "code",
   "execution_count": null,
   "metadata": {},
   "outputs": [],
   "source": [
    "# Escriba la solución aquí"
   ]
  },
  {
   "attachments": {},
   "cell_type": "markdown",
   "metadata": {},
   "source": [
    "## Ejercicio 025\n",
    "\n",
    "### Para acceder a cierta atracción, alcanza con que se cumpla solamente una de las siguientes condiciones: ser __mayor__ de 6 años o medir __más__ de 1,50 metros.\n",
    "### Escribir un programa en Python que solicite al usuario su edad y estatura, y que determine si cumple con los requisitos para subir a la atracción. Si cumple con al menos una de las condiciones, el programa debe imprimir \"¡Puede acceder!\" en la pantalla. Si no cumple con ninguna de las condiciones, el programa debe imprimir un mensaje que lo indique.\n",
    "\n",
    "<center>(Ojo, tener en cuenta las palabras: más, mayor y sobre todo la letra o)</center>\n",
    "\n",
    " El conector \"or\" se utiliza para combinar dos o más expresiones lógicas y evaluarlas en conjunto. La expresión completa es verdadera si al menos una de las expresiones individuales es verdadera. Por ejemplo, la expresión lógica \"A or B\" será verdadera si al menos una de las variables A o B es verdadera. Solo si ambas variables son falsas, entonces la expresión completa será falsa.\n",
    "\n",
    "La tabla de verdad del \"or\" es la siguiente:\n",
    "\n",
    "<center>\n",
    "\n",
    "| P | Q | P or Q |\n",
    "|:-:|:-:|:------:|\n",
    "| V | V |    V   |\n",
    "| V | F |    V   |\n",
    "| F | V |    V   |\n",
    "| F | F |    F   |\n",
    "\n",
    "</center>\n",
    "\n",
    "El conector \"or\" se utiliza para crear expresiones lógicas que requieren que al menos una condición sea verdadera para ser verdadera."
   ]
  },
  {
   "cell_type": "code",
   "execution_count": null,
   "metadata": {},
   "outputs": [],
   "source": [
    "# Escriba la solución aquí\n"
   ]
  },
  {
   "attachments": {},
   "cell_type": "markdown",
   "metadata": {},
   "source": [
    "## Ejercicio 026\n",
    "\n",
    "### Escribir un programa que permita ingresar la cantidad de invitados a una fiesta y la cantidad de asientos disponibles en el salon. Debes indicar si alcanzan los asientos, Si los asientos no alcanzaran indicar cuántos faltan para que todos los invitados puedan sentarse."
   ]
  },
  {
   "cell_type": "code",
   "execution_count": null,
   "metadata": {},
   "outputs": [],
   "source": [
    "# Escriba la solución aquí\n"
   ]
  },
  {
   "attachments": {},
   "cell_type": "markdown",
   "metadata": {},
   "source": [
    "## Ejercicio 027\n",
    "\n",
    "### Escribir un programa que permita ingresar una edad (entre 1 y 120 años), un género ('F'para mujeres, 'M' para hombres) y un nombre. En caso de haber ingresado valores erróneos (edad fuera de rango o género inválido), informar tal situación indicando el nombre de la persona. Si los datos están bien ingresados el programa debe indicar, sabiendo que las mujeres se jubilan con 60 años o más y los hombres con 65 años o más, si la persona está en edad de jubilarse.\n",
    "\n"
   ]
  },
  {
   "cell_type": "code",
   "execution_count": null,
   "metadata": {},
   "outputs": [],
   "source": [
    "# Escriba la solución aquí\n"
   ]
  },
  {
   "attachments": {},
   "cell_type": "markdown",
   "metadata": {},
   "source": [
    "## Ejercicio 028\n",
    "\n",
    "### Crear un programa que pida un número de mes (ejemplo 4) y escriba el nombre del mes en letras (\"abril\"). Verificar que el mes sea válido e informar en caso que no lo sea."
   ]
  },
  {
   "cell_type": "code",
   "execution_count": null,
   "metadata": {},
   "outputs": [],
   "source": [
    "# Escriba la solución aquí\n"
   ]
  },
  {
   "attachments": {},
   "cell_type": "markdown",
   "metadata": {},
   "source": [
    "## Ejercicio 029\n",
    "\n",
    "### Escribir un programa que permita Ingresar las notas de los dos parciales de un alumno e indicar si promocionó, aprobó o debe recuperar. Si el valor de la nota no esta entre 0 y 10, debe informar un error.\n",
    "- Se promociona cuando las notas de ambos parciales son mayores o iguales a 7.\n",
    "- Se aprueba cuando las notas de ambos parciales son mayores o iguales a 4.\n",
    "- Se debe recuperar cuando al menos una de las dos notas es menor a 4.\n"
   ]
  },
  {
   "cell_type": "code",
   "execution_count": 6,
   "metadata": {},
   "outputs": [
    {
     "name": "stdout",
     "output_type": "stream",
     "text": [
      "error en notas\n"
     ]
    }
   ],
   "source": [
    "# Escriba la solución aquí\n",
    "\n",
    "nota1 = int(input(\"ingrese la nota del primer parcial\"))\n",
    "nota2 = int(input(\"ingrese la nota del segundo parcial\"))\n",
    "\n",
    "notas_ok =  0 <= nota1 <= 10 and 0 <= nota2 <= 10\n",
    "notas_ok =  nota1 >= 0 and nota1 <= 10 and nota2 >= 0 and nota2 <= 10\n",
    "if notas_ok:\n",
    "    if nota1 >= 7 and nota2 >= 7:\n",
    "        print(\"Promociona\")\n",
    "    elif nota1 >= 4 and nota2 >= 4:\n",
    "        print(\"Aprueba\")\n",
    "    else:\n",
    "        print(\"Recupera\")\n",
    "else:\n",
    "    print(\"error en notas\")\n",
    "\n"
   ]
  },
  {
   "attachments": {},
   "cell_type": "markdown",
   "metadata": {},
   "source": [
    "## Ejercicio 030\n",
    "\n",
    "### Escribir un programa que permita al usuario ingresar dos números enteros. La computadora debe indicar si el mayor es divisible por el menor. \n",
    "\n",
    "(Un número entero a es divisible por un número entero b cuando el resto de la división entre a y b es 0) "
   ]
  },
  {
   "cell_type": "code",
   "execution_count": null,
   "metadata": {},
   "outputs": [],
   "source": [
    "# Escriba la solución aquí\n"
   ]
  },
  {
   "attachments": {},
   "cell_type": "markdown",
   "metadata": {},
   "source": [
    "## Ejercicio 031\n",
    "\n",
    "### Una editorial determina el precio de un libro según la cantidad de páginas que contiene. El costo básico del libro es de $1000, más $35,10 por página con encuadernación rústica. Si el número de páginas supera las 300 la encuadernación debe ser especial, lo que incrementa el costo en $1200. Además, si el número de páginas sobrepasa las 600 se hace necesario otro procedimiento de encuadernación que incrementa el costo en $880. Desarrollar un programa que calcule el costo de un libro dado el número de páginas.\n",
    "\n",
    "En Python no existen constantes como tal, pero se utiliza una convención de nomenclatura en mayúsculas para indicar que una variable no debe ser modificada. Esto se conoce como \"constante simbólica\" o \"constante convencional\". Para definir una constante convencional, simplemente se define una variable con un nombre en mayúsculas.\n",
    "\n",
    "Por ejemplo, para el problema anterior, se pueden definir las constantes:  \n",
    "\n",
    "COSTO_BASICO con valor 1000  \n",
    "\n",
    "COSTO_POR_PAGINA con valor 35.10  \n",
    "\n",
    "COSTO_ENC_RUSTICA con valor 1200  \n",
    "\n",
    "COSTO_ENC_ESPECIAL con valor 880.  \n",
    "\n",
    "\n",
    "Es una buena práctica utilizar constantes para almacenar valores fijos en un programa, ya que facilita la lectura del código y su mantenimiento, evita errores por la modificación accidental de valores y permite un fácil ajuste de los valores fijos en caso de ser necesario.\n"
   ]
  },
  {
   "cell_type": "code",
   "execution_count": null,
   "metadata": {},
   "outputs": [],
   "source": [
    "\n",
    "# constantes simbólicas\n",
    "COSTO_BASICO = 1000\n",
    "COSTO_POR_PAGINA = 35.10\n",
    "COSTO_ENC_RUSTICA = 1200\n",
    "COSTO_ENC_ESPECIAL = 880\n",
    "\n",
    "num_paginas = int(input(\"Ingrese el número de páginas del libro: \"))\n",
    "costo = COSTO_BASICO + (COSTO_POR_PAGINA * num_paginas)\n",
    "\n",
    "# Escriba lo que falta de la solución aquí\n",
    "\n",
    "print(\"El costo del libro es: $\", costo)"
   ]
  },
  {
   "attachments": {},
   "cell_type": "markdown",
   "metadata": {},
   "source": [
    "## Ejercicio 032\n",
    "\n",
    "### Una remisería requiere un sistema que calcule el precio de un viaje a partir de la cantidad de km que desea recorrer el usuario.\n",
    "### Tiene la siguiente tarifa: \n",
    "\n",
    "- Viaje mínimo $50  \n",
    "\n",
    "- Si recorre entre 0 y 10km: $20/km  \n",
    "\n",
    "- Si recorre 10km o más: $15/km  \n",
    "\n",
    "\n",
    "### Escribir un programa que permita ingresar la cantidad de km que desea recorrer el usuario y muestre el precio del viaje."
   ]
  },
  {
   "cell_type": "code",
   "execution_count": null,
   "metadata": {},
   "outputs": [],
   "source": [
    "# Escriba la solución aquí\n"
   ]
  },
  {
   "attachments": {},
   "cell_type": "markdown",
   "metadata": {},
   "source": [
    "## Ejercicio 033\n",
    "\n",
    "### La farmacia Sindical efectúa descuentos a sus afiliados según el importe de la compra con la siguiente escala: \n",
    "\n",
    "- ### Menor de $5500.0 el descuento es del 4.5%  \n",
    "- ### Entre $5500.0 y $10000.0 el descuento es del 8%  \n",
    "- ### Más de $10000.0 el descuento es del 10.5%  \n",
    "\n",
    "### Escribir un programa que reciba un importe e informe: el descuento y el precio neto a cobrar, con mensajes aclaratorios."
   ]
  },
  {
   "cell_type": "code",
   "execution_count": null,
   "metadata": {},
   "outputs": [],
   "source": [
    "# Escriba la solución aquí"
   ]
  },
  {
   "attachments": {},
   "cell_type": "markdown",
   "metadata": {},
   "source": [
    "## Ejercicio 034\n",
    "\n",
    "### Escribir un programa que calcule y muestre el sueldo neto de un empleado en base a su sueldo básico y su antigüedad en años. Si es soltero se le incrementa el sueldo en 5% del salario bruto por cada año de antigüedad, mientras que si es casado se le incrementa el sueldo en 7% del salario bruto por cada año de antigüedad. También se le realizan los siguientes descuentos:\n",
    "\n",
    "- Jubilación: 11%  \n",
    "\n",
    "- Obra Social: 3%  \n",
    "\n",
    "- Sindicato: 3%  \n",
    "\n",
    "### Como datos de entrada se ingresa por teclado el sueldo básico, antigüedad y estado civil (S: Soltero / C: Casado). Se debe informar: (reemplazando los 9 por los valores que correspondan)\n",
    "\n",
    "Estado Civil: Soltero/Casado\n",
    "Sueldo básico: $ 999.99\n",
    "Antigüedad: 99 años\n",
    "\n",
    "Descuentos:\n",
    "\n",
    "- Jubilación - 999,99  \n",
    "\n",
    "- Obra Social - 999,99  \n",
    "\n",
    "- Sindicato - 999,99  \n",
    "\n",
    "Sueldo Neto 999,99\n",
    "\n",
    "\n"
   ]
  },
  {
   "cell_type": "code",
   "execution_count": null,
   "metadata": {},
   "outputs": [],
   "source": [
    "# Escriba la solución aquí"
   ]
  },
  {
   "attachments": {},
   "cell_type": "markdown",
   "metadata": {},
   "source": [
    "## Ejercicio 035\n",
    "\n",
    "### Existen dos reglas que identifican dos conjuntos de valores:  \n",
    "- ### a) El número es de un solo dígito.  \n",
    "- ### b) El número es impar.  \n",
    "\n",
    "### A partir de estas reglas, escribir un programa que permita ingresar un número entero.\n",
    "### Debe asignar el valor que corresponda a las variables booleanas:  \n",
    "\n",
    "- esDeUnSoloDigito  \n",
    "- esImpar  \n",
    "- estaEnAmbos  \n",
    "- noEstaEnNinguno  \n",
    "\n",
    "### el valor Verdadero o Falso, según corresponda, para indicar si el valor número ingresado pertenece o no a cada conjunto. Definir un lote de prueba de varios números y probr el algoritmo, escribiendo los resultados.\n",
    "\n"
   ]
  },
  {
   "cell_type": "code",
   "execution_count": 13,
   "metadata": {},
   "outputs": [
    {
     "name": "stdout",
     "output_type": "stream",
     "text": [
      "esDeUnSoloDigito: True\n",
      "esImpar: True\n",
      "estaEnAmbos: True\n",
      "noEstaEnNinguno: False\n"
     ]
    }
   ],
   "source": [
    "# Escriba la solución aquí\n",
    "\n"
   ]
  },
  {
   "attachments": {},
   "cell_type": "markdown",
   "metadata": {},
   "source": [
    "## Ejercicio 036\n",
    "\n",
    "### Escribir un programa que permita ingresar dos números enteros y la operación a realizar('+', '-', '*', '/'). Debe mostrarse el resultado para la operación ingresada. Considerar que no se puede dividir por cero (en ese caso mostrar el texto 'ERROR')."
   ]
  },
  {
   "cell_type": "code",
   "execution_count": null,
   "metadata": {},
   "outputs": [],
   "source": [
    "# Escriba la solución aquí\n"
   ]
  },
  {
   "attachments": {},
   "cell_type": "markdown",
   "metadata": {},
   "source": [
    "***\n",
    "# <center>Flujo de repetición.</center>\n",
    "***"
   ]
  },
  {
   "attachments": {},
   "cell_type": "markdown",
   "metadata": {},
   "source": [
    "## Ejercicio 037\n",
    "\n",
    "### Escribir un programa que muestre todos los números enteros del 1 al 5, y luego los mismos números pero en orden inverso."
   ]
  },
  {
   "cell_type": "code",
   "execution_count": null,
   "metadata": {},
   "outputs": [],
   "source": [
    "# Escriba la solución aquí\n"
   ]
  },
  {
   "attachments": {},
   "cell_type": "markdown",
   "metadata": {},
   "source": [
    "## Ejercicio 038\n",
    "\n",
    "### Escribir un programa que permita ingresar un número entero n. Debe mostrar los primeros 10 múltiplos de n.\n",
    "### Ejemplo  \n",
    "n = 5  \n",
    "\n",
    "n x 1 = 5  \n",
    "n x 2 = 10  \n",
    "n x 3 = 15  \n",
    "n x 4 = 20  \n",
    "n x 5 = 25  \n",
    "n x 6 = 30  \n",
    "n x 7 = 35  \n",
    "n x 8 = 40  \n",
    "n x 9 = 45  \n",
    "n x 10 = 50   \n",
    "\n"
   ]
  },
  {
   "cell_type": "code",
   "execution_count": null,
   "metadata": {},
   "outputs": [],
   "source": [
    "# Escriba la solución aquí\n"
   ]
  },
  {
   "attachments": {},
   "cell_type": "markdown",
   "metadata": {},
   "source": [
    "## Ejercicio 039\n",
    "\n",
    "### Escribir un programa para calcular e imprimir la suma de los números comprendidos entre 42 y 176"
   ]
  },
  {
   "cell_type": "code",
   "execution_count": null,
   "metadata": {},
   "outputs": [],
   "source": [
    "# Escriba la solución aquí\n"
   ]
  },
  {
   "attachments": {},
   "cell_type": "markdown",
   "metadata": {},
   "source": [
    "## Ejercicio 040\n",
    "\n",
    "### Escribir un programa que permita ingresar dos numeros enteros a y b. El programa debe mostrar:\n",
    "\n",
    "- La suma de los numeros pares entre a y b.  \n",
    "- El producto de los numeros impares entre a y b."
   ]
  },
  {
   "cell_type": "code",
   "execution_count": null,
   "metadata": {},
   "outputs": [],
   "source": [
    "# Escriba la solución aquí\n"
   ]
  },
  {
   "attachments": {},
   "cell_type": "markdown",
   "metadata": {},
   "source": [
    "## Ejercicio 041\n",
    "\n",
    "### Escribir un programa que lea números enteros hasta que se ingrese un 0, y muestre el máximo."
   ]
  },
  {
   "cell_type": "code",
   "execution_count": null,
   "metadata": {},
   "outputs": [],
   "source": [
    "# Escriba la solución aquí"
   ]
  },
  {
   "attachments": {},
   "cell_type": "markdown",
   "metadata": {},
   "source": [
    "## Ejercicio 042\n",
    "\n",
    "### Escribir un programa que lea números enteros hasta que se ingrese un 0, y muestre el promedio de los números ingresados."
   ]
  },
  {
   "cell_type": "code",
   "execution_count": null,
   "metadata": {},
   "outputs": [],
   "source": [
    "# Escriba la solución aquí\n"
   ]
  },
  {
   "attachments": {},
   "cell_type": "markdown",
   "metadata": {},
   "source": [
    "## Ejercicio 043\n",
    "\n",
    "### Escribir un programa que lea números enteros hasta que se la suma de éstos sea mayor que 100, y muestre la cantidad de números ingresados."
   ]
  },
  {
   "cell_type": "code",
   "execution_count": null,
   "metadata": {},
   "outputs": [],
   "source": [
    "# Escriba la solución aquí\n"
   ]
  },
  {
   "attachments": {},
   "cell_type": "markdown",
   "metadata": {},
   "source": [
    "## Ejercicio 044\n",
    "\n",
    "### Escribir un programa que permita leer dos números A y B (enteros positivos). Calcular el producto A * B por sumas sucesivas e imprimir el resultado. \n",
    "\n",
    "### Ejemplo:\n",
    "\n",
    "- 4*3 = 4 + 4 + 4 (4 sumado 3 veces).  \n",
    "- 3*4 = 3 + 3 + 3 + 3 (3 sumado 4 veces)."
   ]
  },
  {
   "cell_type": "code",
   "execution_count": null,
   "metadata": {},
   "outputs": [],
   "source": [
    "# Escriba la solución aquí\n"
   ]
  },
  {
   "attachments": {},
   "cell_type": "markdown",
   "metadata": {},
   "source": [
    "## Ejercicio 045\n",
    "\n",
    "### Escribir un programa que permita leer dos números naturales A y B. Calcular A elevado a la B mediante productos sucesivos y mostrar el resultado.  \n",
    "\n",
    "### Ejemplo:  \n",
    "\n",
    "- 4^3 = 4 * 4 * 4 (4 multiplicado 3 veces).  \n",
    "- 3^4 = 3 * 3 * 3 * 3 (3 multiplicado 4 veces)."
   ]
  },
  {
   "cell_type": "code",
   "execution_count": null,
   "metadata": {},
   "outputs": [],
   "source": [
    "# Escriba la solución aquí\n"
   ]
  },
  {
   "attachments": {},
   "cell_type": "markdown",
   "metadata": {},
   "source": [
    "## Ejercicio 046\n",
    "\n",
    "### Escribir un programa que a partir de un número entero cant ingresado por el usuario permita cargar por teclado cant números enteros. La computadora debe mostrar cuál fue el mayor número y en qué posición apareció."
   ]
  },
  {
   "cell_type": "code",
   "execution_count": null,
   "metadata": {},
   "outputs": [],
   "source": [
    "# Escriba la solución aquí\n"
   ]
  },
  {
   "attachments": {},
   "cell_type": "markdown",
   "metadata": {},
   "source": [
    "## Ejercicio 047\n",
    "\n",
    "### Escribir un programa que permita validar la nota de un examen. Se espera que la nota que el usuario ingrese sea un número comprendido entre 0 y 10.  \n",
    "### La misma debe ser ingresada tantas veces como sea necesario hasta que quede comprendida dentro del rango indicado."
   ]
  },
  {
   "cell_type": "code",
   "execution_count": null,
   "metadata": {},
   "outputs": [],
   "source": [
    "# Escriba la solución aquí"
   ]
  },
  {
   "attachments": {},
   "cell_type": "markdown",
   "metadata": {},
   "source": [
    "## Ejercicio 048\n",
    "\n",
    "### Escribir un programa que permita realizar varias operaciones matemáticas ingresando un caracter por cada una la operación a realizar (‘+’, ‘-’, ‘*’, ‘/’, ‘F’) y dos números enteros en el caso que no haya elegido ‘F’. La computadora debe mostrar el resultado para la operación ingresada. Considerar que no se puede dividir por cero. Cuando la operación ingresada sea ‘F’ nos indicará que no se desean calcular más operaciones."
   ]
  },
  {
   "cell_type": "code",
   "execution_count": null,
   "metadata": {},
   "outputs": [],
   "source": [
    "# Escriba la solución aquí\n"
   ]
  },
  {
   "attachments": {},
   "cell_type": "markdown",
   "metadata": {},
   "source": [
    "## Ejercicio 049\n",
    "\n",
    "### Escribir un programa que permita validar una opción ingresada. Se le preguntará al usuario si desea continuar con alguna operación de la forma \"¿Deseás continuar? [S/N]\". Se espera que el usuario ingrese una 'S' o una 'N' (incluir las minúsculas). La opción debe ser ingresada tanto como sea necesario hasta que quede comprendida dentro de las posibilidades esperadas."
   ]
  },
  {
   "cell_type": "code",
   "execution_count": null,
   "metadata": {},
   "outputs": [],
   "source": [
    "# Escriba la solución aquí\n"
   ]
  },
  {
   "attachments": {},
   "cell_type": "markdown",
   "metadata": {},
   "source": [
    "## Ejercicio 050\n",
    "\n",
    "### Escribir un programa que permita validar la nota de un examen. Se espera que la nota que el usuario ingrese sea un número comprendido entre 0 y 10.  \n",
    "### La misma debe ser ingresada tantas veces como sea necesario hasta que quede comprendida dentro del rango indicado.\n",
    "- Las notas 1 y 3 no usan nunca.  \n",
    "- La nota 0 se reserva para los ausentes.  \n",
    "### Las notas válidas pueden ser un 2 o un valor entre 4 y 10.\n"
   ]
  },
  {
   "cell_type": "code",
   "execution_count": null,
   "metadata": {},
   "outputs": [],
   "source": [
    "# Escriba la solución aquí\n"
   ]
  },
  {
   "attachments": {},
   "cell_type": "markdown",
   "metadata": {},
   "source": [
    "## Ejercicio 051\n",
    "\n",
    "### Escribir un programa que permita al usuario ingresar números hasta que se introduzca un 0.\n",
    "### La computadora debe mostrar el número máximo y el número mínimo."
   ]
  },
  {
   "cell_type": "code",
   "execution_count": null,
   "metadata": {},
   "outputs": [],
   "source": [
    "# Escriba la solución aquí\n"
   ]
  },
  {
   "attachments": {},
   "cell_type": "markdown",
   "metadata": {},
   "source": [
    "## Ejercicio 052\n",
    "\n",
    "### Escribir un programa que permita un programa que permita ingresar la estatura (en metros con decimales) de cada jugador de un equipo de baloncesto. La carga finalizará al ingresar cero. Calcular y mostrar la estatura promedio del equipo."
   ]
  },
  {
   "cell_type": "code",
   "execution_count": null,
   "metadata": {},
   "outputs": [],
   "source": [
    "# Escriba la solución aquí\n"
   ]
  },
  {
   "attachments": {},
   "cell_type": "markdown",
   "metadata": {},
   "source": [
    "## Ejercicio 053\n",
    "\n",
    "### Escribir un programa que permita ingresar nombre y edad de un grupo de personas (para cada una, nombre y edad). La carga termina cuando en el nombre de la persona se ingresa un asterisco ('*'). Mostrar al final cómo se llama la persona más joven."
   ]
  },
  {
   "cell_type": "code",
   "execution_count": null,
   "metadata": {},
   "outputs": [],
   "source": [
    "# Escriba la solución aquí\n"
   ]
  },
  {
   "attachments": {},
   "cell_type": "markdown",
   "metadata": {},
   "source": [
    "## Ejercicio 054\n",
    "\n",
    "### Escribir un programa que permita controlar con validación el ingreso a un sitio web. Teniendo dos constantes con un nombre de usuario (\"admin\") y una contraseña (\"123456\"), el programa debe permitir al usuario ingresar sus credenciales. Si las mismas son erróneas, se volverán a pedir hasta un máximo de 3 intentos. Finalmente, la computadora debe mostrar alguno de los siguientes mensajes según sea el caso: \"Acceso concedido\" o \"Se ha bloqueado la cuenta\""
   ]
  },
  {
   "cell_type": "code",
   "execution_count": null,
   "metadata": {},
   "outputs": [],
   "source": [
    "# Escriba la solución aquí\n",
    "USUARIO = \"admin\"\n",
    "CONTRASENA = \"1234\"\n"
   ]
  },
  {
   "attachments": {},
   "cell_type": "markdown",
   "metadata": {},
   "source": [
    "## Ejercicio 055\n",
    "\n",
    "### Escribir un programa que permita para cada cliente que va al banco \"Express\".\n",
    "### Cada cliente indica su número de documento y aguarda a ser atendido, cuando finaliza la atención del día se ingresa -1 para indicar que no hay más clientes para ser atendidos. El banco desea saber quién fue el primer cliente atendido y quién fue el último."
   ]
  },
  {
   "cell_type": "code",
   "execution_count": null,
   "metadata": {},
   "outputs": [],
   "source": [
    "# Escriba la solución aquí\n"
   ]
  },
  {
   "attachments": {},
   "cell_type": "markdown",
   "metadata": {},
   "source": [
    "## Ejercicio 056\n",
    "\n",
    "### Escribir un programa que permita Leer números que representan edades de un grupo de personas, finalizando la lectura cuando se ingrese el número 999. Imprimir cuántos son menores de 18 años, cuántos tienen 18 años o más y el promedio de edad de ambos grupos. Descartar valores que no representan una edad válida. (Se considera válido una edad entre 0 y 100)"
   ]
  },
  {
   "cell_type": "code",
   "execution_count": null,
   "metadata": {},
   "outputs": [],
   "source": [
    "# Escriba la solución aquí\n"
   ]
  },
  {
   "attachments": {},
   "cell_type": "markdown",
   "metadata": {},
   "source": [
    "## Ejercicio 057\n",
    "\n",
    "### Escribir un programa que permita ingresar los números de legajo de los alumnos de un curso y su nota de examen final. El fin de la carga se determina ingresando un -1 en el legajo. \n",
    "### Informar para cada alumno si aprobó o no el examen considerando que se aprueba con nota mayor o igual a 4. Se debe validar que la nota ingresada sea entre 1 y 10. Terminada la carga de datos, informar:\n",
    "- Cantidad de alumnos que aprobaron (nota >= 4).\n",
    "- Cantidad de alumnos que desaprobaron el examen (nota < 4).\n",
    "- Porcentaje de alumnos que están aplazados (nota == 1)."
   ]
  },
  {
   "cell_type": "code",
   "execution_count": null,
   "metadata": {},
   "outputs": [],
   "source": [
    "# Escriba la solución aquí\n"
   ]
  },
  {
   "attachments": {},
   "cell_type": "markdown",
   "metadata": {},
   "source": [
    "## Ejercicio 058\n",
    "\n",
    "### Una empresa aplica el siguiente procedimiento en la comercialización de sus productos:\n",
    "- ### Aplica el precio base a la primera docena de unidades.  \n",
    "- ### Aplica un 10% de descuento a todas las unidades entre 13 y 100.  \n",
    "- ### Aplica un 25% de descuento a todas las unidades por encima de las 100.\n",
    "### Por ejemplo, supongamos que vende 230 unidades de un producto cuyo precio base es 100. El cálculo resultante sería:  \n",
    "100 * 12 + 90 * 88 + 75 * 130 = 18870, y el precio promedio será 18870 / 230 = 82,04  \n",
    "### Escribir un programa que lea la cantidad solicitada de un producto y su precio base, y muestre el valor total de la venta y el precio promedio por unidad. El fin de carga se determina ingresando -1 como cantidad solicitada.\n",
    "### Al finalizar informar:  \n",
    "- a) Cantidad de ventas realizadas total.\n",
    "- b) Cantidad de ventas que se aplicaron un 10% de descuento.\n",
    "- c) Cantidad de ventas que SOLO se aplicó el precio base, no se le realizaron descuentos"
   ]
  },
  {
   "cell_type": "code",
   "execution_count": null,
   "metadata": {},
   "outputs": [],
   "source": [
    "# Escriba la solución aquí\n"
   ]
  },
  {
   "attachments": {},
   "cell_type": "markdown",
   "metadata": {},
   "source": [
    "## Ejercicio 059\n",
    "\n",
    "### Escribir un programa para un negocio de venta de granos que desea controlar las ventas realizadas. De cada venta ingresa el importe total y un código que indica la forma de pago. Los códigos puede ser:\n",
    "- C: cheque, 20% de recargo.  \n",
    "- E: efectivo, 10% de descuento.  \n",
    "- T: con tarjeta, 12% de recargo.  \n",
    "### Se debe ingresar una F para finalizar el día de venta y arrojar los siguientes totales.\n",
    "| Forma de Pago    | Total     |  \n",
    "| ---------------- | --------- |\n",
    "| Efectivo en Caja | $ xxxx.xx |  \n",
    "| Tarjeta/Crédito  | $ xxxx.xx |  \n",
    "| Cheques          | $ xxxx.xx |  \n",
    "| Total de Venta   | $ xxxx.xx |  \n",
    "| Importe del IVA  | $ xxxx.xx |  \n",
    "\n"
   ]
  },
  {
   "cell_type": "code",
   "execution_count": null,
   "metadata": {},
   "outputs": [],
   "source": [
    "# Escriba la solución aquí\n"
   ]
  },
  {
   "attachments": {},
   "cell_type": "markdown",
   "metadata": {},
   "source": [
    "## Ejercicio 060\n",
    "\n",
    "### Escribir un programa para calcular el sueldo final a pagar a cada empleado de una empresa. De cada uno se tiene, sueldo básico, antigüedad, cantidad de hijos y estudios superiores (‘S’ o ‘N’). Además, se conocen los porcentajes de aumento del sueldo que dependen de los siguientes factores:\n",
    "\n",
    "- Si el empleado tiene más de 10 años de antigüedad: aumento del 10%  \n",
    "- Si el empleado tiene más de 2 hijos: aumento del 10%, si solo tiene uno 5%  \n",
    "- Si el empleado posee estudios superiores: aumento del 5%  \n",
    "\n",
    "### Luego de ingresar los datos de un empleado se debe preguntar si se desea ingresar otro empleado o no. Se termina la carga cuando no se deseen ingresar más empleados.\n",
    "- Determinar:  \n",
    "    - a. Por cada empleado: número de empleado, el sueldo básico y el nuevo sueldo.  \n",
    "    - b. Sueldo nuevo promedio de la empresa.  \n",
    "    "
   ]
  },
  {
   "cell_type": "code",
   "execution_count": null,
   "metadata": {},
   "outputs": [],
   "source": [
    "# Escriba la solución aquí\n"
   ]
  },
  {
   "attachments": {},
   "cell_type": "markdown",
   "metadata": {},
   "source": [
    "## Ejercicio 061\n",
    "\n",
    "### Escribir un programa que permita ingresar un número entero positivo y mostrar su factorial. El factorial de un número es el producto de todos los números enteros desde 1 hasta el número ingresado. Por ejemplo, el factorial de 5 es 1 * 2 * 3 * 4 * 5 = 120."
   ]
  },
  {
   "cell_type": "code",
   "execution_count": null,
   "metadata": {},
   "outputs": [],
   "source": [
    "# Escriba la solución aquí\n"
   ]
  },
  {
   "attachments": {},
   "cell_type": "markdown",
   "metadata": {},
   "source": [
    "## Ejercicio 062\n",
    "\n",
    "### Un entrenador le ha propuesto a un atleta recorrer una ruta de cinco kilómetros durante 10 días para determinar si es apto para la prueba de 5 kilómetros que se desarrollará en el Parque. No se sabe si está apto y para eso nos piden que hagamos el siguiente programa.\n",
    "### Nos ingresan por cada día de entrenamiento tiempo de la prueba en minutos (entero mayor que 0 y menor a 100)\n",
    "### Para considerarlo apto debe cumplir las siguientes condiciones:\n",
    "- Que en ninguna de las pruebas haga un tiempo mayor a 20 minutos. \n",
    "- Que al menos en una de las pruebas realice un tiempo menor de 15 minutos.\n",
    "- Que su promedio sea menor o igual a 18 minutos.\n",
    "### Se pide:\n",
    "- Diseñar un algoritmo para registrar los datos y decidir si es apto para la competencia.\n",
    "- Sólo en caso de estar apto, informar el promedio y el número de día en el que realizó el\n",
    "menor tiempo "
   ]
  },
  {
   "cell_type": "code",
   "execution_count": null,
   "metadata": {},
   "outputs": [],
   "source": [
    "# Escriba la solución aquí\n",
    "\n",
    "CANTIDAD_DIAS_ENTRENAMIENTO = 10\n",
    "\n",
    "for dia in range(CANTIDAD_DIAS_ENTRENAMIENTO):# [0,1,2,3,4,5,6,7,8,9]\n",
    "    tiempo = int(input(f\"Día: {dia+1} Ingrese Tiempo [0..100]: \"))\n",
    "    while tiempo < 0 or tiempo > 100: # MIENTRAS ERROR\n",
    "        tiempo = int(input(f\"Día: {dia+1} Ingrese Tiempo [0..100]: \"))\n"
   ]
  },
  {
   "attachments": {},
   "cell_type": "markdown",
   "metadata": {},
   "source": [
    "## Ejercicio 063\n",
    "\n",
    "### Escribir un programa para registrar y obtener información sobre los viajes diarios de un conductor de Uber.\n",
    "### Cada vez que comienza un viaje se debe ingresar la distancia recorrida, indicando si el viaje fue corto (‘C’), mediano (‘M’), largo (‘L’) o si es el fin de los datos (‘Z’).  \n",
    "### El día finaliza cuando se llega a los 30 viajes o cuando se ingresa distancia ‘Z’ (fin de los datos).\n",
    "\n",
    "### Por cada viaje se debe ingresar la siguiente información:\n",
    "\n",
    "- ### Cantidad de pasajeros (mayor a 0 y menor a 4).\n",
    "- ### Importe a cobrar, incluyendo la el costo básico ($180).  \n",
    "- ### Por cada pasajero de ese viaje se debe ingresar:  \n",
    "    - ### Nombre.\n",
    "    - ### Edad (mayor a 18 y menor a 120 años).  \n",
    "\n",
    "### Se desea saber, para cada viaje, cuál es la persona más grande y su nombre.\n",
    "\n",
    "### Al finalizar el día de trabajo, el programa debe informar:\n",
    "\n",
    "- ### Cantidad de viajes por cada categoría (‘C’, ‘M’, ‘L’).\n",
    "- ### Recaudación total.\n",
    "- ### Valor promedio del viaje.\n",
    "- ### Porcentaje de viajes cortos.\n",
    "\n",
    "### Todos los datos ingresados deben ser validados.\n",
    "\n",
    "\n",
    "\n",
    "\n",
    "\n",
    "\n"
   ]
  },
  {
   "cell_type": "code",
   "execution_count": null,
   "metadata": {},
   "outputs": [],
   "source": [
    "# Escriba la solución aquí\n"
   ]
  },
  {
   "attachments": {},
   "cell_type": "markdown",
   "metadata": {},
   "source": [
    "## Ejercicio 064\n",
    "\n",
    "### Un animal en rehabilitación después de una cirugía requiere ser alimentado y monitoreado en un zoológico. Se alimenta al animal 3 veces al día y se le da de comer hasta que ya no tenga ganas de comer.\n",
    "### Por cada tanda de comida, se debe ingresar la cantidad de alimento en kg (número entero) que se le dio y se le debe preguntar al animal si quiere seguir comiendo ('S', 'N').\n",
    "### Se desea conocer:\n",
    "- ### Cuál de las 3 comidas fue la que el animal comió más cantidad de alimento y cuánto fue esa cantidad.\n",
    "- ### El total en kg de alimento recibido.\n",
    "- ### Promedio de alimento por tanda."
   ]
  },
  {
   "cell_type": "code",
   "execution_count": null,
   "metadata": {},
   "outputs": [],
   "source": [
    "# Escriba la solución aquí\n"
   ]
  },
  {
   "attachments": {},
   "cell_type": "markdown",
   "metadata": {},
   "source": [
    "## Ejercicio 065\n",
    "\n",
    "### Una cadena de comida rápida solicita el desarrollo de una aplicación para sus terminales de autoservicio que permita a los clientes armar su propio menú. Los clientes pueden elegir entre diferentes opciones de combos o pedir por separado la comida, bebida y postre.\n",
    "\n",
    "### Al iniciar la aplicación, se debe mostrar el siguiente menú de opciones:\n",
    "\n",
    "- #### 1) Combo 1: Hamburguesa, papas fritas y gaseosa - $1550\n",
    "- #### 2) Combo 2: Hamburguesa con queso, papas fritas y gaseosa - $1650\n",
    "- #### 3) Hamburguesa sola - $1300\n",
    "- #### 4) Hamburguesa con queso - $1400\n",
    "- #### 5) Gaseosa - $700\n",
    "- #### 6) Postre - $600\n",
    "- #### 7) Agregar aderezo - $100\n",
    "- #### 8) Terminar\n",
    "\n",
    "### Luego de seleccionar cada ítem, se debe mostrar el subtotal para que el cliente pueda decidir si desea agregar más productos a su pedido antes de terminar.  \n",
    "### El valor mínimo del pedido debe ser de $1550. Si el cliente elige un combo, se debe sumar el importe total al subtotal. Si el cliente selecciona opciones 3 a 7, se le debe preguntar la cantidad deseada y calcular el valor total antes de sumarlo al subtotal.\n",
    "### Al finalizar el pedido, se debe mostrar el monto total a pagar, el ítem más caro y, si no se han seleccionado productos, mostrar un mensaje que diga \"Pedido cancelado\"."
   ]
  },
  {
   "cell_type": "code",
   "execution_count": null,
   "metadata": {},
   "outputs": [],
   "source": [
    "# Escriba su solución aquí\n"
   ]
  },
  {
   "attachments": {},
   "cell_type": "markdown",
   "metadata": {},
   "source": [
    "## Ejercicio 066a\n",
    "\n",
    "### La biblioteca de la ciudad necesita organizar y hacer un recuento de los libros que tiene en sus 5 estantes. Para cada uno de los 5 estantes, se deben ingresar los libros, y para cada libro, se debe ingresar su nombre (usando 'FIN' si no hay más libros para ese estante), género (usando 'I' para Infantil, 'N' para Novela, o 'H' para Historia), y cantidad de páginas (mayor a 0). Una vez que se han ingresado los datos de 1 estante, se debe mostrar por pantalla el nombre del libro con la mayor cantidad de páginas y su cantidad correspondiente. Al finalizar el ingreso de datos de todos los estantes, se deben mostrar la cantidad de libros por género y el promedio de libros por estante."
   ]
  },
  {
   "cell_type": "code",
   "execution_count": null,
   "metadata": {},
   "outputs": [],
   "source": [
    "# Escriba su solución aquí\n"
   ]
  },
  {
   "attachments": {},
   "cell_type": "markdown",
   "metadata": {},
   "source": [
    "## Ejercicio 066b\n",
    "\n",
    "### La biblioteca de la ciudad necesita organizar y hacer un recuento de los libros que tiene en sus estantes. Para cada uno de los estantes (usando 'F' para indicar el fin de los estantes), se deben ingresar 15 libros, y para cada libro, se debe ingresar su nombre, género (usando 'I' para Infantil, 'N' para Novela, o 'H' para Historia), y cantidad de páginas (mayor a 0). Una vez que se han ingresado los datos de 1 estante, se debe mostrar por pantalla el nombre del libro con la mayor cantidad de páginas y su cantidad correspondiente. Al finalizar el ingreso de datos de todos los estantes, se deben mostrar la cantidad de libros por género."
   ]
  },
  {
   "cell_type": "code",
   "execution_count": null,
   "metadata": {},
   "outputs": [],
   "source": [
    "# Escriba su solución aquí\n"
   ]
  },
  {
   "attachments": {},
   "cell_type": "markdown",
   "metadata": {},
   "source": [
    "## Ejercicio 066c\n",
    "\n",
    "### La biblioteca de la ciudad necesita organizar y hacer un recuento de los libros que tiene en sus estantes. Para cada uno de los estantes (usando 'F' para indicar el fin del estante), se deben ingresar los libros, y para cada libro, se debe ingresar su nombre (usando 'FIN' si no hay más libros para ese estante), género (usando 'I' para Infantil, 'N' para Novela, o 'H' para Historia), y cantidad de páginas (mayor a 0). Una vez que se han ingresado los datos de 1 estante, se debe mostrar por pantalla el nombre del libro con la mayor cantidad de páginas y su cantidad correspondiente. Al finalizar el ingreso de datos de todos los estantes, se deben mostrar la cantidad de libros por género y el promedio de libros por estante."
   ]
  },
  {
   "cell_type": "code",
   "execution_count": null,
   "metadata": {},
   "outputs": [],
   "source": [
    "# Escriba su solución aquí\n"
   ]
  },
  {
   "attachments": {},
   "cell_type": "markdown",
   "metadata": {},
   "source": [
    "## Ejercicio 066d\n",
    "\n",
    "### La biblioteca de la ciudad necesita organizar y hacer un recuento de los libros que tiene en sus estantes. Para cada uno de los 5 estantes, se le pide al usuario que ingrese la cantidad de libros que tendrá ese estante. Para cada libro, se debe ingresar su nombre, género (usando 'I' para Infantil, 'N' para Novela, o 'H' para Historia), y cantidad de páginas (mayor a 0). Una vez que se han ingresado los datos de 1 estante, se debe mostrar por pantalla el nombre del libro con la mayor cantidad de páginas y su cantidad correspondiente. Al finalizar el ingreso de datos de todos los estantes, se deben mostrar la cantidad de libros por género."
   ]
  },
  {
   "cell_type": "code",
   "execution_count": null,
   "metadata": {},
   "outputs": [],
   "source": [
    "# Escriba su solución aquí\n"
   ]
  }
 ],
 "metadata": {
  "kernelspec": {
   "display_name": "Python 3",
   "language": "python",
   "name": "python3"
  },
  "language_info": {
   "codemirror_mode": {
    "name": "ipython",
    "version": 3
   },
   "file_extension": ".py",
   "mimetype": "text/x-python",
   "name": "python",
   "nbconvert_exporter": "python",
   "pygments_lexer": "ipython3",
   "version": "3.10.4"
  },
  "orig_nbformat": 4
 },
 "nbformat": 4,
 "nbformat_minor": 2
}
